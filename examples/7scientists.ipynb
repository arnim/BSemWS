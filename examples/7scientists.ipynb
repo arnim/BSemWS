{
 "cells": [
  {
   "cell_type": "markdown",
   "metadata": {},
   "source": [
    "# Seven Scientists Model\n",
    "\n",
    "This is an example from MacKay ([2003, p. 309](http://www.inference.org.uk/itprnn/book.pdf)), who studied the example of seven scientists with wildly-differing experimental skills all making a measurement of the same quantity (see [Michael D. Lee, 2013] https://webfiles.uci.edu/mdlee/LeeWagenmakers2013_Free.pdf) and [stan-dev](https://github.com/stan-dev/example-models/blob/ec6d329bb5a88fa53e44c28fa01287701660933c/Bayesian_Cognitive_Modeling/ParameterEstimation/Gaussian/SevenScientists_Stan.R).\n",
    "\n",
    "![alt text](7scientists_plate.png \"7 Scientists Model\")\n"
   ]
  },
  {
   "cell_type": "code",
   "execution_count": null,
   "metadata": {},
   "outputs": [],
   "source": [
    "library(rstan)"
   ]
  },
  {
   "cell_type": "markdown",
   "metadata": {},
   "source": [
    "**transformed parameters:** parameter processing before the posterior is computed "
   ]
  },
  {
   "cell_type": "code",
   "execution_count": 1,
   "metadata": {},
   "outputs": [
    {
     "name": "stdout",
     "output_type": "stream",
     "text": [
      "data { \n",
      "  int<lower=1> n;\n",
      "  vector[n] x;\n",
      "}\n",
      "parameters {\n",
      "  real mu;\n",
      "  vector<lower=0>[n] lambda;\n",
      "} \n",
      "transformed parameters {\n",
      "  vector[n] sigma;\n",
      "  \n",
      "  for (i in 1:n)\n",
      "    sigma[i] <- inv_sqrt(lambda[i]);\n",
      "}\n",
      "model {\n",
      "  mu ~ normal(0, 30); // sqrt(1000) \n",
      "  lambda ~ gamma(.001, .001);\n",
      "  x ~ normal(mu, sigma);\n",
      "}\n"
     ]
    }
   ],
   "source": [
    "writeLines(readLines(\"7scientists.stan\"))"
   ]
  },
  {
   "cell_type": "markdown",
   "metadata": {},
   "source": [
    "Some observations"
   ]
  },
  {
   "cell_type": "code",
   "execution_count": null,
   "metadata": {},
   "outputs": [],
   "source": [
    "x <- c(-27.020, 3.570, 8.191, 9.898, 9.603, 9.945, 10.056)\n",
    "n <- length(x)"
   ]
  },
  {
   "cell_type": "code",
   "execution_count": null,
   "metadata": {},
   "outputs": [],
   "source": [
    "fit <- stan(file = \"7scientists.stan\", data = list(x=x, n=n), pars = c(\"mu\", \"sigma\"), chains = 2, iter = 1000)"
   ]
  },
  {
   "cell_type": "code",
   "execution_count": null,
   "metadata": {},
   "outputs": [],
   "source": [
    "fit"
   ]
  },
  {
   "cell_type": "code",
   "execution_count": null,
   "metadata": {},
   "outputs": [],
   "source": [
    "plot(fit)"
   ]
  },
  {
   "cell_type": "code",
   "execution_count": null,
   "metadata": {},
   "outputs": [],
   "source": []
  }
 ],
 "metadata": {
  "kernelspec": {
   "display_name": "R",
   "language": "R",
   "name": "ir"
  },
  "language_info": {
   "codemirror_mode": "r",
   "file_extension": ".r",
   "mimetype": "text/x-r-source",
   "name": "R",
   "pygments_lexer": "r",
   "version": "3.4.4"
  }
 },
 "nbformat": 4,
 "nbformat_minor": 2
}
