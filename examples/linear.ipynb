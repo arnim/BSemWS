{
 "cells": [
  {
   "cell_type": "markdown",
   "metadata": {},
   "source": [
    "# Linear Regression Model\n",
    "\n",
    "Modelling the relationship between a scalar response $y$, a explanatory variable $x$ and a disturbance term $\\epsilon_n$\n",
    "\n",
    "\\begin{aligned}\n",
    "y_n = \\alpha + \\beta x_n + \\epsilon_n \\\\\n",
    "\\epsilon_n \\sim Normal(0,\\sigma)\n",
    "\\end{aligned}\n",
    "\n",
    "Let's generate some data"
   ]
  },
  {
   "cell_type": "code",
   "execution_count": null,
   "metadata": {},
   "outputs": [],
   "source": [
    "library(rstan)"
   ]
  },
  {
   "cell_type": "code",
   "execution_count": null,
   "metadata": {},
   "outputs": [],
   "source": [
    "N <- 10\n",
    "alpha <- -50\n",
    "beta <- 5\n",
    "sigma <- 20\n",
    "x <- runif(N, 10, 100)\n",
    "epsilon <- rnorm(N, 0, sigma)\n",
    "y = alpha + beta * x + epsilon"
   ]
  },
  {
   "cell_type": "markdown",
   "metadata": {},
   "source": [
    "... and plot it"
   ]
  },
  {
   "cell_type": "code",
   "execution_count": null,
   "metadata": {},
   "outputs": [],
   "source": [
    "plot(x,y)"
   ]
  },
  {
   "cell_type": "code",
   "execution_count": 1,
   "metadata": {},
   "outputs": [
    {
     "name": "stdout",
     "output_type": "stream",
     "text": [
      "data {\n",
      "  int<lower=0> N; \n",
      "  vector[N] x;\n",
      "  vector[N] y;\n",
      "}\n",
      "parameters {\n",
      "  real alpha;\n",
      "  real beta;\n",
      "  real<lower=0> sigma;\n",
      "}\n",
      "model {\n",
      "  y ~ normal(alpha + beta * x, sigma);\n",
      "}\n"
     ]
    }
   ],
   "source": [
    "writeLines(readLines(\"linear.stan\"))"
   ]
  },
  {
   "cell_type": "code",
   "execution_count": null,
   "metadata": {},
   "outputs": [],
   "source": [
    "fit <- stan(file = 'linear.stan', data = c(\"N\", \"x\", \"y\"))"
   ]
  },
  {
   "cell_type": "code",
   "execution_count": null,
   "metadata": {},
   "outputs": [],
   "source": [
    "print(fit)"
   ]
  },
  {
   "cell_type": "code",
   "execution_count": null,
   "metadata": {},
   "outputs": [],
   "source": [
    "plot(fit)"
   ]
  },
  {
   "cell_type": "code",
   "execution_count": null,
   "metadata": {},
   "outputs": [],
   "source": [
    "pairs(fit)"
   ]
  },
  {
   "cell_type": "markdown",
   "metadata": {},
   "source": [
    "If you have time, make sure to watch the [Hands-on with Bob Carpenter](https://www.youtube.com/watch?v=6NXRCtWQNMg)"
   ]
  }
 ],
 "metadata": {
  "kernelspec": {
   "display_name": "R",
   "language": "R",
   "name": "ir"
  },
  "language_info": {
   "codemirror_mode": "r",
   "file_extension": ".r",
   "mimetype": "text/x-r-source",
   "name": "R",
   "pygments_lexer": "r",
   "version": "3.4.4"
  }
 },
 "nbformat": 4,
 "nbformat_minor": 2
}
