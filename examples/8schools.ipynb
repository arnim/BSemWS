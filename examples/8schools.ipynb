{
 "cells": [
  {
   "cell_type": "markdown",
   "metadata": {},
   "source": [
    "## Example 1: Eight Schools\n",
    "\n",
    "This is an example in Section 5.5 of Gelman et al (2003), which studied coaching effects from eight schools (see https://github.com/stan-dev/rstan/wiki/RStan-Getting-Started). \n",
    "\n",
    "We start by writing a Stan program for the model and saving it in a new file [8schools.stan](8schools.stan)"
   ]
  },
  {
   "cell_type": "code",
   "execution_count": null,
   "metadata": {},
   "outputs": [],
   "source": [
    "library(\"rstan\") # observe startup messages"
   ]
  },
  {
   "cell_type": "markdown",
   "metadata": {},
   "source": [
    "\n",
    "In this model, we let theta be transformed parameters of mu and eta instead of directly declaring theta as parameters. By parameterizing this way, the sampler will run more efficiently ([see detailed explanation](http://mc-stan.org/users/documentation/case-studies/divergences_and_bias.html)). We can prepare the data in R with:"
   ]
  },
  {
   "cell_type": "code",
   "execution_count": null,
   "metadata": {},
   "outputs": [],
   "source": [
    "schools_dat <- list(J = 8, \n",
    "                    y = c(28,  8, -3,  7, -1,  1, 18, 12),\n",
    "                    sigma = c(15, 10, 16, 11,  9, 11, 10, 18))"
   ]
  },
  {
   "cell_type": "markdown",
   "metadata": {},
   "source": [
    "And we can get a fit with the following R command. Note that the argument to file = should point to where the file is on your file system unless you have put it in the working directory of R in which case the below will work."
   ]
  },
  {
   "cell_type": "code",
   "execution_count": null,
   "metadata": {},
   "outputs": [],
   "source": [
    "fit <- stan(file = '8schools.stan', data = schools_dat, iter = 1000, chains = 4)"
   ]
  },
  {
   "cell_type": "markdown",
   "metadata": {},
   "source": [
    "We can also specify a Stan model using a character string by using argument model_code of function stan instead. However, this is not recommended, as using a file allows you to use print statements and to dereference line numbers in error messages.\n",
    "\n",
    "The object fit, returned from function stan is an S4 object of class stanfit. Methods such as print, plot, and pairs are associated with the fitted result so we can use the following code to check out the results in fit. print provides a summary for the parameter of the model as well as the log-posterior with name lp__ (see the following example output). For more methods and details of class stanfit, see the help of class stanfit.\n",
    "\n",
    "In particular, we can use extract function on stanfit objects to obtain the samples. extract extracts samples from the stanfit object as a list of arrays for parameters of interest, or just an array. In addition, S3 functions as.array, as.matrix, and as.data.frame are defined for stanfit object (using help(\"as.array.stanfit\") to check out the help document in R)."
   ]
  },
  {
   "cell_type": "code",
   "execution_count": null,
   "metadata": {},
   "outputs": [],
   "source": [
    "print(fit)"
   ]
  },
  {
   "cell_type": "code",
   "execution_count": null,
   "metadata": {},
   "outputs": [],
   "source": [
    "plot(fit)"
   ]
  },
  {
   "cell_type": "code",
   "execution_count": null,
   "metadata": {},
   "outputs": [],
   "source": [
    "pairs(fit, pars = c(\"mu\", \"tau\", \"lp__\"))\n",
    "\n",
    "la <- extract(fit, permuted = TRUE) # return a list of arrays \n",
    "mu <- la$mu \n",
    "\n",
    "### return an array of three dimensions: iterations, chains, parameters \n",
    "a <- extract(fit, permuted = FALSE) \n",
    "\n",
    "### use S3 functions on stanfit objects\n",
    "a2 <- as.array(fit)\n",
    "m <- as.matrix(fit)\n",
    "d <- as.data.frame(fit)"
   ]
  },
  {
   "cell_type": "code",
   "execution_count": null,
   "metadata": {},
   "outputs": [],
   "source": [
    "print(fit, digits = 1)"
   ]
  }
 ],
 "metadata": {
  "kernelspec": {
   "display_name": "R",
   "language": "R",
   "name": "ir"
  },
  "language_info": {
   "codemirror_mode": "r",
   "file_extension": ".r",
   "mimetype": "text/x-r-source",
   "name": "R",
   "pygments_lexer": "r",
   "version": "3.4.4"
  }
 },
 "nbformat": 4,
 "nbformat_minor": 2
}
